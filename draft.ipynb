{
 "cells": [
  {
   "cell_type": "code",
   "execution_count": null,
   "metadata": {},
   "outputs": [],
   "source": [
    "max_lengths = {}\n",
    "\n",
    "# Iterate over each column in the DataFrame\n",
    "for column in entity.columns:\n",
    "    # Calculate the maximum length for each cell in the column\n",
    "    max_length_in_column = entity[column].astype(str).apply(len).max()\n",
    "    \n",
    "    # Store the result in the dictionary\n",
    "    max_lengths[column] = max_length_in_column\n",
    "\n",
    "# Print the maximum lengths for each column\n",
    "for column, max_length in max_lengths.items():\n",
    "    print(f\"Maximum length in '{column}': {max_length}\")"
   ]
  },
  {
   "cell_type": "code",
   "execution_count": null,
   "metadata": {},
   "outputs": [],
   "source": [
    "import pandas as pd\n",
    "import psycopg2\n",
    "from sqlalchemy import create_engine\n",
    "\n",
    "# Assuming you have a DataFrame named 'df' and a PostgreSQL connection is established\n",
    "\n",
    "# PostgreSQL connection parameters\n",
    "db_params = {\n",
    "    'host': 'localhost',\n",
    "    'port': 5432,\n",
    "    'user': 'postgres',\n",
    "    'password': 'useruser',\n",
    "    'database': 'postgres'\n",
    "}\n",
    "\n",
    "# Create a connection to the PostgreSQL database\n",
    "connection = psycopg2.connect(**db_params)\n",
    "\n",
    "# Create a SQLAlchemy engine\n",
    "engine = create_engine(f'postgresql://{db_params[\"user\"]}:{db_params[\"password\"]}@{db_params[\"host\"]}:{db_params[\"port\"]}/{db_params[\"database\"]}')\n",
    "\n",
    "# Replace 'entities_2325' with your actual table name\n",
    "table_name = 'entities_2325'\n",
    "\n",
    "# Transfer the DataFrame to the PostgreSQL database\n",
    "entity.to_sql(table_name, engine, if_exists='append', index=False)\n",
    "\n",
    "# Close the database connection\n",
    "connection.close()"
   ]
  }
 ],
 "metadata": {
  "kernelspec": {
   "display_name": "dtsc3.11",
   "language": "python",
   "name": "python3"
  },
  "language_info": {
   "codemirror_mode": {
    "name": "ipython",
    "version": 3
   },
   "file_extension": ".py",
   "mimetype": "text/x-python",
   "name": "python",
   "nbconvert_exporter": "python",
   "pygments_lexer": "ipython3",
   "version": "3.11.5"
  }
 },
 "nbformat": 4,
 "nbformat_minor": 2
}
