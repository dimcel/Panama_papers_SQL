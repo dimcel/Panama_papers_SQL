{
 "cells": [
  {
   "cell_type": "code",
   "execution_count": 8,
   "metadata": {},
   "outputs": [
    {
     "name": "stdout",
     "output_type": "stream",
     "text": [
      "[(1, 'Alice', 25), (2, 'Bob', 30), (3, 'Charlie', 22)]\n"
     ]
    }
   ],
   "source": [
    "import psycopg2\n",
    "\n",
    "# Replace these values with your PostgreSQL credentials and database name\n",
    "db_host = \"localhost\"\n",
    "db_user = \"postgres\"\n",
    "db_password = \"useruser\"\n",
    "db_name = \"postgres\"\n",
    "\n",
    "# Establish a connection to the existing database\n",
    "connection = psycopg2.connect(\n",
    "    host=db_host,\n",
    "    user=db_user,\n",
    "    password=db_password,\n",
    "    database=db_name\n",
    ")\n",
    "\n",
    "# Create a cursor object to execute SQL queries\n",
    "cursor = connection.cursor()\n",
    "\n",
    "\n",
    "# Create a table (if not exists)\n",
    "create_table_query = '''\n",
    "    CREATE TABLE IF NOT EXISTS example_table (\n",
    "        id SERIAL PRIMARY KEY,\n",
    "        name VARCHAR(255),\n",
    "        age INT\n",
    "    );\n",
    "'''\n",
    "cursor.execute(create_table_query)\n",
    "\n",
    "# Insert data into the table\n",
    "insert_data_query = \"INSERT INTO example_table (name, age) VALUES (%s, %s);\"\n",
    "data_to_insert = [(\"Alice\", 25), (\"Bob\", 30), (\"Charlie\", 22)]\n",
    "\n",
    "for data in data_to_insert:\n",
    "    cursor.execute(insert_data_query, data)\n",
    "\n",
    "# Commit the changes\n",
    "connection.commit()\n",
    "\n",
    "# Select all data from the table\n",
    "select_all_query = \"SELECT * FROM example_table;\"\n",
    "cursor.execute(select_all_query)\n",
    "rows = cursor.fetchall()\n",
    "\n",
    "# Close the cursor and connection\n",
    "cursor.close()\n",
    "connection.close()\n",
    "\n",
    "# Print the fetched rows\n",
    "print(rows)\n"
   ]
  },
  {
   "cell_type": "code",
   "execution_count": null,
   "metadata": {},
   "outputs": [],
   "source": [
    "import pandas as pd\n",
    "import psycopg2\n",
    "from sqlalchemy import create_engine\n",
    "\n",
    "# Assuming you have a DataFrame named 'df' and a PostgreSQL connection is established\n",
    "\n",
    "# PostgreSQL connection parameters\n",
    "db_params = {\n",
    "    'host': 'localhost',\n",
    "    'port': 5432,\n",
    "    'user': 'postgres',\n",
    "    'password': 'useruser',\n",
    "    'database': 'postgres'\n",
    "}\n",
    "\n",
    "# Create a connection to the PostgreSQL database\n",
    "connection = psycopg2.connect(**db_params)\n",
    "\n",
    "# Create a SQLAlchemy engine\n",
    "engine = create_engine(f'postgresql://{db_params[\"user\"]}:{db_params[\"password\"]}@{db_params[\"host\"]}:{db_params[\"port\"]}/{db_params[\"database\"]}')\n",
    "\n",
    "# Replace 'entities_2325' with your actual table name\n",
    "table_name = 'entities_2325'\n",
    "\n",
    "# Transfer the DataFrame to the PostgreSQL database\n",
    "df.to_sql(table_name, engine, if_exists='replace', index=False)\n",
    "\n",
    "# Close the database connection\n",
    "connection.close()\n",
    "\n"
   ]
  }
 ],
 "metadata": {
  "kernelspec": {
   "display_name": "dtsc3.11",
   "language": "python",
   "name": "python3"
  },
  "language_info": {
   "codemirror_mode": {
    "name": "ipython",
    "version": 3
   },
   "file_extension": ".py",
   "mimetype": "text/x-python",
   "name": "python",
   "nbconvert_exporter": "python",
   "pygments_lexer": "ipython3",
   "version": "3.11.5"
  }
 },
 "nbformat": 4,
 "nbformat_minor": 2
}
