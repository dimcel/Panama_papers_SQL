{
 "cells": [
  {
   "cell_type": "code",
   "execution_count": 6,
   "metadata": {},
   "outputs": [
    {
     "ename": "OperationalError",
     "evalue": "FATAL:  password authentication failed for user \"postgres\"\n",
     "output_type": "error",
     "traceback": [
      "\u001b[0;31m---------------------------------------------------------------------------\u001b[0m",
      "\u001b[0;31mOperationalError\u001b[0m                          Traceback (most recent call last)",
      "\u001b[1;32mUntitled-1.ipynb Cell 1\u001b[0m line \u001b[0;36m1\n\u001b[1;32m      <a href='vscode-notebook-cell:Untitled-1.ipynb?jupyter-notebook#W0sdW50aXRsZWQ%3D?line=6'>7</a>\u001b[0m db_name \u001b[39m=\u001b[39m \u001b[39m\"\u001b[39m\u001b[39mtmp_base\u001b[39m\u001b[39m\"\u001b[39m\n\u001b[1;32m      <a href='vscode-notebook-cell:Untitled-1.ipynb?jupyter-notebook#W0sdW50aXRsZWQ%3D?line=8'>9</a>\u001b[0m \u001b[39m# Establish a connection to the existing database\u001b[39;00m\n\u001b[0;32m---> <a href='vscode-notebook-cell:Untitled-1.ipynb?jupyter-notebook#W0sdW50aXRsZWQ%3D?line=9'>10</a>\u001b[0m connection \u001b[39m=\u001b[39m psycopg2\u001b[39m.\u001b[39mconnect(\n\u001b[1;32m     <a href='vscode-notebook-cell:Untitled-1.ipynb?jupyter-notebook#W0sdW50aXRsZWQ%3D?line=10'>11</a>\u001b[0m     host\u001b[39m=\u001b[39mdb_host,\n\u001b[1;32m     <a href='vscode-notebook-cell:Untitled-1.ipynb?jupyter-notebook#W0sdW50aXRsZWQ%3D?line=11'>12</a>\u001b[0m     user\u001b[39m=\u001b[39mdb_user,\n\u001b[1;32m     <a href='vscode-notebook-cell:Untitled-1.ipynb?jupyter-notebook#W0sdW50aXRsZWQ%3D?line=12'>13</a>\u001b[0m     password\u001b[39m=\u001b[39mdb_password,\n\u001b[1;32m     <a href='vscode-notebook-cell:Untitled-1.ipynb?jupyter-notebook#W0sdW50aXRsZWQ%3D?line=13'>14</a>\u001b[0m     database\u001b[39m=\u001b[39mdb_name\n\u001b[1;32m     <a href='vscode-notebook-cell:Untitled-1.ipynb?jupyter-notebook#W0sdW50aXRsZWQ%3D?line=14'>15</a>\u001b[0m )\n\u001b[1;32m     <a href='vscode-notebook-cell:Untitled-1.ipynb?jupyter-notebook#W0sdW50aXRsZWQ%3D?line=16'>17</a>\u001b[0m \u001b[39m# Create a cursor object to execute SQL queries\u001b[39;00m\n\u001b[1;32m     <a href='vscode-notebook-cell:Untitled-1.ipynb?jupyter-notebook#W0sdW50aXRsZWQ%3D?line=17'>18</a>\u001b[0m cursor \u001b[39m=\u001b[39m connection\u001b[39m.\u001b[39mcursor()\n",
      "File \u001b[0;32m~/miniconda3/envs/dtsc3.11/lib/python3.11/site-packages/psycopg2/__init__.py:122\u001b[0m, in \u001b[0;36mconnect\u001b[0;34m(dsn, connection_factory, cursor_factory, **kwargs)\u001b[0m\n\u001b[1;32m    119\u001b[0m     kwasync[\u001b[39m'\u001b[39m\u001b[39masync_\u001b[39m\u001b[39m'\u001b[39m] \u001b[39m=\u001b[39m kwargs\u001b[39m.\u001b[39mpop(\u001b[39m'\u001b[39m\u001b[39masync_\u001b[39m\u001b[39m'\u001b[39m)\n\u001b[1;32m    121\u001b[0m dsn \u001b[39m=\u001b[39m _ext\u001b[39m.\u001b[39mmake_dsn(dsn, \u001b[39m*\u001b[39m\u001b[39m*\u001b[39mkwargs)\n\u001b[0;32m--> 122\u001b[0m conn \u001b[39m=\u001b[39m _connect(dsn, connection_factory\u001b[39m=\u001b[39mconnection_factory, \u001b[39m*\u001b[39m\u001b[39m*\u001b[39mkwasync)\n\u001b[1;32m    123\u001b[0m \u001b[39mif\u001b[39;00m cursor_factory \u001b[39mis\u001b[39;00m \u001b[39mnot\u001b[39;00m \u001b[39mNone\u001b[39;00m:\n\u001b[1;32m    124\u001b[0m     conn\u001b[39m.\u001b[39mcursor_factory \u001b[39m=\u001b[39m cursor_factory\n",
      "\u001b[0;31mOperationalError\u001b[0m: FATAL:  password authentication failed for user \"postgres\"\n"
     ]
    }
   ],
   "source": [
    "import psycopg2\n",
    "\n",
    "# Replace these values with your PostgreSQL credentials and database name\n",
    "db_host = \"localhost\"\n",
    "db_user = \"postgres\"\n",
    "db_password = \"useruser\"\n",
    "db_name = \"postgres\"\n",
    "\n",
    "# Establish a connection to the existing database\n",
    "connection = psycopg2.connect(\n",
    "    host=db_host,\n",
    "    user=db_user,\n",
    "    password=db_password,\n",
    "    database=db_name\n",
    ")\n",
    "\n",
    "# Create a cursor object to execute SQL queries\n",
    "cursor = connection.cursor()\n",
    "\n",
    "# Create a table (if not exists)\n",
    "create_table_query = '''\n",
    "    CREATE TABLE IF NOT EXISTS example_table (\n",
    "        id SERIAL PRIMARY KEY,\n",
    "        name VARCHAR(255),\n",
    "        age INT\n",
    "    );\n",
    "'''\n",
    "cursor.execute(create_table_query)\n",
    "\n",
    "# Insert data into the table\n",
    "insert_data_query = \"INSERT INTO example_table (name, age) VALUES (%s, %s);\"\n",
    "data_to_insert = [(\"Alice\", 25), (\"Bob\", 30), (\"Charlie\", 22)]\n",
    "\n",
    "for data in data_to_insert:\n",
    "    cursor.execute(insert_data_query, data)\n",
    "\n",
    "# Commit the changes\n",
    "connection.commit()\n",
    "\n",
    "# Select all data from the table\n",
    "select_all_query = \"SELECT * FROM example_table;\"\n",
    "cursor.execute(select_all_query)\n",
    "rows = cursor.fetchall()\n",
    "\n",
    "# Close the cursor and connection\n",
    "cursor.close()\n",
    "connection.close()\n",
    "\n",
    "# Print the fetched rows\n",
    "print(rows)\n"
   ]
  },
  {
   "cell_type": "code",
   "execution_count": 8,
   "metadata": {},
   "outputs": [
    {
     "name": "stdout",
     "output_type": "stream",
     "text": [
      "[(1, 'Alice', 25), (2, 'Bob', 30), (3, 'Charlie', 22)]\n"
     ]
    }
   ],
   "source": [
    "import psycopg2\n",
    "\n",
    "# Replace these values with your PostgreSQL credentials and database name\n",
    "db_host = \"localhost\"\n",
    "db_user = \"postgres\"\n",
    "db_password = \"useruser\"\n",
    "db_name = \"postgres\"\n",
    "\n",
    "# Establish a connection to the existing database\n",
    "connection = psycopg2.connect(\n",
    "    host=db_host,\n",
    "    user=db_user,\n",
    "    password=db_password,\n",
    "    database=db_name\n",
    ")\n",
    "\n",
    "# Create a cursor object to execute SQL queries\n",
    "cursor = connection.cursor()\n",
    "\n",
    "\n",
    "# Create a table (if not exists)\n",
    "create_table_query = '''\n",
    "    CREATE TABLE IF NOT EXISTS example_table (\n",
    "        id SERIAL PRIMARY KEY,\n",
    "        name VARCHAR(255),\n",
    "        age INT\n",
    "    );\n",
    "'''\n",
    "cursor.execute(create_table_query)\n",
    "\n",
    "# Insert data into the table\n",
    "insert_data_query = \"INSERT INTO example_table (name, age) VALUES (%s, %s);\"\n",
    "data_to_insert = [(\"Alice\", 25), (\"Bob\", 30), (\"Charlie\", 22)]\n",
    "\n",
    "for data in data_to_insert:\n",
    "    cursor.execute(insert_data_query, data)\n",
    "\n",
    "# Commit the changes\n",
    "connection.commit()\n",
    "\n",
    "# Select all data from the table\n",
    "select_all_query = \"SELECT * FROM example_table;\"\n",
    "cursor.execute(select_all_query)\n",
    "rows = cursor.fetchall()\n",
    "\n",
    "# Close the cursor and connection\n",
    "cursor.close()\n",
    "connection.close()\n",
    "\n",
    "# Print the fetched rows\n",
    "print(rows)\n"
   ]
  },
  {
   "cell_type": "code",
   "execution_count": null,
   "metadata": {},
   "outputs": [],
   "source": []
  }
 ],
 "metadata": {
  "kernelspec": {
   "display_name": "dtsc3.11",
   "language": "python",
   "name": "python3"
  },
  "language_info": {
   "codemirror_mode": {
    "name": "ipython",
    "version": 3
   },
   "file_extension": ".py",
   "mimetype": "text/x-python",
   "name": "python",
   "nbconvert_exporter": "python",
   "pygments_lexer": "ipython3",
   "version": "3.11.5"
  }
 },
 "nbformat": 4,
 "nbformat_minor": 2
}
